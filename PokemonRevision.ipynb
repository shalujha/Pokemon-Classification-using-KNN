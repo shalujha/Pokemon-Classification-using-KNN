{
 "cells": [
  {
   "cell_type": "code",
   "execution_count": 1,
   "metadata": {},
   "outputs": [
    {
     "name": "stderr",
     "output_type": "stream",
     "text": [
      "Using TensorFlow backend.\n"
     ]
    }
   ],
   "source": [
    "import os\n",
    "from keras.preprocessing import image \n",
    "import numpy as np\n",
    "import matplotlib.pyplot as plt\n",
    "import pandas as pd\n",
    "from pathlib import Path"
   ]
  },
  {
   "cell_type": "code",
   "execution_count": 2,
   "metadata": {},
   "outputs": [
    {
     "name": "stderr",
     "output_type": "stream",
     "text": [
      "c:\\users\\ayush\\appdata\\local\\programs\\python\\python36\\lib\\site-packages\\PIL\\Image.py:993: UserWarning: Palette images with Transparency expressed in bytes should be converted to RGBA images\n",
      "  \"Palette images with Transparency expressed in bytes should be \"\n"
     ]
    }
   ],
   "source": [
    "p=Path(\"Train\\images\")\n",
    "dirc=p.glob('*')\n",
    "all_list=[str(d) for d in dirc]\n",
    "image_data=[]\n",
    "#print(all_list)\n",
    "for i in all_list:\n",
    "    img=image.load_img(i,target_size=(32,32))\n",
    "    img_array=image.img_to_array(img)\n",
    "    image_data.append(img_array)"
   ]
  },
  {
   "cell_type": "code",
   "execution_count": 3,
   "metadata": {},
   "outputs": [],
   "source": [
    "#print(image_data)"
   ]
  },
  {
   "cell_type": "code",
   "execution_count": 4,
   "metadata": {},
   "outputs": [
    {
     "name": "stdout",
     "output_type": "stream",
     "text": [
      "   ImageId NameOfPokemon\n",
      "0  296.jpg       Pikachu\n",
      "1  297.jpg       Pikachu\n",
      "2  298.jpg       Pikachu\n",
      "3  299.jpg       Pikachu\n",
      "4  300.jpg       Pikachu\n",
      "<class 'pandas.core.frame.DataFrame'>\n",
      "(304, 2)\n",
      "(304,)\n"
     ]
    }
   ],
   "source": [
    "# Read the  csv file of training set now\n",
    "df=pd.read_csv(\"Train/train.csv\")\n",
    "print(df.head())\n",
    "print(type(df))\n",
    "data=df.values\n",
    "print(df.shape)\n",
    "Y=data[:,1]\n",
    "print(Y.shape)"
   ]
  },
  {
   "cell_type": "code",
   "execution_count": 5,
   "metadata": {},
   "outputs": [],
   "source": [
    "# its basically the output of data\n",
    "label_dict={\"Pikachu\":0,\"Bulbasaur\":1,\"Charmander\":2}\n",
    "for i in range(Y.shape[0]):\n",
    "    labels=Y[i]\n",
    "    Y[i]=label_dict[labels]"
   ]
  },
  {
   "cell_type": "code",
   "execution_count": 6,
   "metadata": {},
   "outputs": [],
   "source": [
    "# draw a sample image\n",
    "label_dictionary={0:\"Pikachu\",1:\"Bulbasaur\",2:\"Charmander\"}\n",
    "def drawImg(img,labels):\n",
    "    plt.imshow(img)\n",
    "    plt.title(label_dictionary[labels])\n",
    "    plt.axis('off')\n",
    "    plt.show()\n"
   ]
  },
  {
   "cell_type": "code",
   "execution_count": 7,
   "metadata": {},
   "outputs": [
    {
     "name": "stdout",
     "output_type": "stream",
     "text": [
      "<class 'numpy.ndarray'>\n",
      "(304, 32, 32, 3)\n"
     ]
    },
    {
     "data": {
      "image/png": "[encoded data removed]",
      "text/plain": [
       "<Figure size 432x288 with 1 Axes>"
      ]
     },
     "metadata": {
      "needs_background": "light"
     },
     "output_type": "display_data"
    }
   ],
   "source": [
    "image_data=np.array(image_data)\n",
    "print(type(image_data))\n",
    "print(image_data.shape)\n",
    "#print(image_data[4])\n",
    "drawImg(image_data[79]/255.0,Y[79])"
   ]
  },
  {
   "cell_type": "markdown",
   "metadata": {},
   "source": [
    "# Algorithm"
   ]
  },
  {
   "cell_type": "code",
   "execution_count": 8,
   "metadata": {},
   "outputs": [],
   "source": [
    "def distance(x1,x2):\n",
    "    return np.sqrt(np.sum((x1-x2)**2))\n",
    "def KNN(x,y,query_point,k=7):\n",
    "    m=x.shape[0]\n",
    "    vals=[]\n",
    "    for i in range(m):\n",
    "        d=distance(x[i],query_point)\n",
    "        vals.append((d,y[i]))\n",
    "    vals=sorted(vals)\n",
    "    vals=vals[:k]\n",
    "    vals=np.array(vals)\n",
    "    new_val=np.unique(vals[:,1],return_counts=True)\n",
    "    index=new_val[1].argmax()\n",
    "    pred=new_val[0][index]\n",
    "    return pred"
   ]
  },
  {
   "cell_type": "code",
   "execution_count": 9,
   "metadata": {},
   "outputs": [
    {
     "name": "stdout",
     "output_type": "stream",
     "text": [
      "(304, 3072)\n",
      "(304,)\n"
     ]
    }
   ],
   "source": [
    "X=image_data\n",
    "X=X.reshape((X.shape[0],-1))\n",
    "print(X.shape)\n",
    "print(Y.shape)"
   ]
  },
  {
   "cell_type": "code",
   "execution_count": 10,
   "metadata": {},
   "outputs": [
    {
     "name": "stdout",
     "output_type": "stream",
     "text": [
      "2\n"
     ]
    },
    {
     "data": {
      "image/png": "[encoded data removed]",
      "text/plain": [
       "<Figure size 432x288 with 1 Axes>"
      ]
     },
     "metadata": {
      "needs_background": "light"
     },
     "output_type": "display_data"
    }
   ],
   "source": [
    "val=int(KNN(X,Y,X[303]))\n",
    "print(val)\n",
    "drawImg(image_data[303]/255.0,Y[303])"
   ]
  },
  {
   "cell_type": "markdown",
   "metadata": {},
   "source": [
    "# Testing"
   ]
  },
  {
   "cell_type": "code",
   "execution_count": 19,
   "metadata": {},
   "outputs": [
    {
     "name": "stdout",
     "output_type": "stream",
     "text": [
      "(123,)\n"
     ]
    }
   ],
   "source": [
    "# csv data\n",
    "test_data=pd.read_csv('Test/test.csv')\n",
    "#print(test_data.head())\n",
    "test_data=test_data.values\n",
    "#print(test_data)\n",
    "test_data=test_data.reshape((test_data.shape[0],))\n",
    "print(test_data.shape)"
   ]
  },
  {
   "cell_type": "code",
   "execution_count": 20,
   "metadata": {},
   "outputs": [
    {
     "name": "stdout",
     "output_type": "stream",
     "text": [
      "123\n"
     ]
    }
   ],
   "source": [
    "# Lets read test images:\n",
    "p=Path('Test\\Images')\n",
    "dirc=p.glob('*')\n",
    "test_image=[str(d) for d in dirc]\n",
    "print(len(test_image))\n",
    "test_image_data=[]\n",
    "#print(test_image)"
   ]
  },
  {
   "cell_type": "code",
   "execution_count": 21,
   "metadata": {},
   "outputs": [],
   "source": [
    "# lets convert this image into array\n",
    "for i in test_data:\n",
    "    #print(i)\n",
    "    img=image.load_img(\"Test/Images/\"+i,target_size=(32,32))\n",
    "    img_array=image.img_to_array(img)\n",
    "    test_image_data.append(img_array)"
   ]
  },
  {
   "cell_type": "code",
   "execution_count": 22,
   "metadata": {},
   "outputs": [
    {
     "name": "stdout",
     "output_type": "stream",
     "text": [
      "(123, 3072)\n"
     ]
    }
   ],
   "source": [
    "test_image_data=np.array(test_image_data)\n",
    "test_image_data=test_image_data.reshape((test_image_data.shape[0],-1))\n",
    "X_test=test_image_data\n",
    "print(X_test.shape)"
   ]
  },
  {
   "cell_type": "code",
   "execution_count": 26,
   "metadata": {},
   "outputs": [],
   "source": [
    "#data=test_data.values\n",
    "#print(data[5:])\n",
    "predictions=[]\n",
    "for i in range(test_data.shape[0]):\n",
    "    val=int(KNN(X,Y,X_test[i]))\n",
    "    predictions.append(label_dictionary[val])    "
   ]
  },
  {
   "cell_type": "code",
   "execution_count": 32,
   "metadata": {},
   "outputs": [
    {
     "name": "stdout",
     "output_type": "stream",
     "text": [
      "<class 'numpy.ndarray'>\n",
      "<class 'numpy.ndarray'>\n",
      "(123,) (123,)\n"
     ]
    }
   ],
   "source": [
    "# Now we have to make a csv file having 2 columns and write data into it\n",
    "#print(data)\n",
    "# data=> id\n",
    "#print(type(predictions))\n",
    "predictions=np.array(predictions)\n",
    "print(type(data))\n",
    "print(type(predictions))\n",
    "test_data=test_data.reshape((test_data.shape[0],))\n",
    "predictions=predictions.reshape((predictions.shape[0],))\n",
    "print(test_data.shape,predictions.shape)\n",
    "#predictions=predictions.reshape(())\n",
    "#print(predictions.shape)"
   ]
  },
  {
   "cell_type": "code",
   "execution_count": 34,
   "metadata": {},
   "outputs": [],
   "source": [
    "result=np.stack((test_data,predictions),axis=1)"
   ]
  },
  {
   "cell_type": "code",
   "execution_count": 35,
   "metadata": {},
   "outputs": [
    {
     "name": "stdout",
     "output_type": "stream",
     "text": [
      "<class 'numpy.ndarray'>\n"
     ]
    }
   ],
   "source": [
    "print(type(result))"
   ]
  },
  {
   "cell_type": "code",
   "execution_count": 36,
   "metadata": {},
   "outputs": [
    {
     "name": "stdout",
     "output_type": "stream",
     "text": [
      "    ImageId NameOfPokemon\n",
      "0  1106.jpg     Bulbasaur\n",
      "1  2236.jpg    Charmander\n",
      "2  1131.jpg     Bulbasaur\n",
      "3  2221.jpg    Charmander\n",
      "4  2011.jpg     Bulbasaur\n"
     ]
    }
   ],
   "source": [
    "result_df=pd.DataFrame(result,columns=[\"ImageId\",\"NameOfPokemon\"])\n",
    "print(result_df.head())"
   ]
  },
  {
   "cell_type": "code",
   "execution_count": 37,
   "metadata": {},
   "outputs": [],
   "source": [
    "result_df.to_csv(\"Pokemon_output2.csv\",index=False)"
   ]
  },
  {
   "cell_type": "code",
   "execution_count": null,
   "metadata": {},
   "outputs": [],
   "source": []
  },
  {
   "cell_type": "code",
   "execution_count": null,
   "metadata": {},
   "outputs": [],
   "source": []
  },
  {
   "cell_type": "code",
   "execution_count": null,
   "metadata": {},
   "outputs": [],
   "source": []
  }
 ],
 "metadata": {
  "kernelspec": {
   "display_name": "Python 3",
   "language": "python",
   "name": "python3"
  },
  "language_info": {
   "codemirror_mode": {
    "name": "ipython",
    "version": 3
   },
   "file_extension": ".py",
   "mimetype": "text/x-python",
   "name": "python",
   "nbconvert_exporter": "python",
   "pygments_lexer": "ipython3",
   "version": "3.6.8"
  }
 },
 "nbformat": 4,
 "nbformat_minor": 2
}
